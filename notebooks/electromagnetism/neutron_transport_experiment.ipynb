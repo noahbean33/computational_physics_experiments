{
  "nbformat": 4,
  "nbformat_minor": 0,
  "metadata": {
    "colab": {
      "provenance": [],
      "machine_shape": "hm",
      "gpuType": "L4",
      "authorship_tag": "ABX9TyOeOYWkdxcpwVE2q2eR0B2F",
      "include_colab_link": true
    },
    "kernelspec": {
      "name": "python3",
      "display_name": "Python 3"
    },
    "language_info": {
      "name": "python"
    },
    "accelerator": "GPU"
  },
  "cells": [
    {
      "cell_type": "markdown",
      "metadata": {
        "id": "view-in-github",
        "colab_type": "text"
      },
      "source": [
        "<a href=\"https://colab.research.google.com/github/noahbean33/computational_physics_experiments/blob/main/neutron_transport_experiment.ipynb\" target=\"_parent\"><img src=\"https://colab.research.google.com/assets/colab-badge.svg\" alt=\"Open In Colab\"/></a>"
      ]
    },
    {
      "cell_type": "code",
      "execution_count": 6,
      "metadata": {
        "colab": {
          "base_uri": "https://localhost:8080/"
        },
        "id": "CZzFxzjYp0kb",
        "outputId": "919e2aac-6975-4a83-b466-362b99419f91"
      },
      "outputs": [
        {
          "output_type": "stream",
          "name": "stdout",
          "text": [
            "Number of neutrons that escaped: 100000\n"
          ]
        }
      ],
      "source": [
        "import numpy as np\n",
        "import random\n",
        "import math\n",
        "\n",
        "# Constants\n",
        "NUM_NEUTRONS = 100000  # Number of neutrons to simulate\n",
        "MAX_STEPS = 1000       # Maximum number of steps for each neutron\n",
        "LAMBDA = 1.0           # Mean free path\n",
        "\n",
        "def simulate_neutron(num_neutrons, max_steps, lambda_val):\n",
        "    neutron_positions = np.zeros((num_neutrons, 3))\n",
        "    neutron_statuses = np.ones(num_neutrons, dtype=np.int32)\n",
        "\n",
        "    for i in range(num_neutrons):\n",
        "        x, y, z = 0.0, 0.0, 0.0\n",
        "        for step in range(max_steps):\n",
        "            theta = 2.0 * math.pi * random.random()\n",
        "            phi = math.acos(2.0 * random.random() - 1.0)\n",
        "            dx = lambda_val * math.sin(phi) * math.cos(theta)\n",
        "            dy = lambda_val * math.sin(phi) * math.sin(theta)\n",
        "            dz = lambda_val * math.cos(phi)\n",
        "\n",
        "            x += dx\n",
        "            y += dy\n",
        "            z += dz\n",
        "\n",
        "            # Check for boundary conditions (example: if neutron escapes the medium)\n",
        "            if abs(x) > 10 or abs(y) > 10 or abs(z) > 10:\n",
        "                neutron_statuses[i] = 0  # Mark neutron as escaped\n",
        "                break\n",
        "\n",
        "        neutron_positions[i, 0] = x\n",
        "        neutron_positions[i, 1] = y\n",
        "        neutron_positions[i, 2] = z\n",
        "\n",
        "    return neutron_positions, neutron_statuses\n",
        "\n",
        "if __name__ == \"__main__\":\n",
        "    positions, statuses = simulate_neutron(NUM_NEUTRONS, MAX_STEPS, LAMBDA)\n",
        "\n",
        "    # Analyze results (example: count escaped neutrons)\n",
        "    num_escaped = np.sum(statuses == 0)\n",
        "    print(f\"Number of neutrons that escaped: {num_escaped}\")\n",
        "\n",
        "    # Additional analysis can be performed here\n"
      ]
    },
    {
      "cell_type": "code",
      "source": [
        "import numpy as np\n",
        "import random\n",
        "import math\n",
        "\n",
        "# Constants\n",
        "NUM_NEUTRONS = 100000  # Number of neutrons to simulate\n",
        "MAX_STEPS = 1000       # Maximum number of steps for each neutron\n",
        "LAMBDA = 1.0           # Mean free path\n",
        "BOUNDARY = 100.0       # Boundary limit for the medium\n",
        "\n",
        "def simulate_neutron(num_neutrons, max_steps, lambda_val, boundary):\n",
        "    neutron_positions = np.zeros((num_neutrons, 3))\n",
        "    neutron_statuses = np.ones(num_neutrons, dtype=np.int32)\n",
        "\n",
        "    for i in range(num_neutrons):\n",
        "        x, y, z = 0.0, 0.0, 0.0\n",
        "        for step in range(max_steps):\n",
        "            theta = 2.0 * math.pi * random.random()\n",
        "            phi = math.acos(2.0 * random.random() - 1.0)\n",
        "            dx = lambda_val * math.sin(phi) * math.cos(theta)\n",
        "            dy = lambda_val * math.sin(phi) * math.sin(theta)\n",
        "            dz = lambda_val * math.cos(phi)\n",
        "\n",
        "            x += dx\n",
        "            y += dy\n",
        "            z += dz\n",
        "\n",
        "            # Check for boundary conditions (example: if neutron escapes the medium)\n",
        "            if abs(x) > boundary or abs(y) > boundary or abs(z) > boundary:\n",
        "                neutron_statuses[i] = 0  # Mark neutron as escaped\n",
        "                break\n",
        "\n",
        "        neutron_positions[i, 0] = x\n",
        "        neutron_positions[i, 1] = y\n",
        "        neutron_positions[i, 2] = z\n",
        "\n",
        "    return neutron_positions, neutron_statuses\n",
        "\n",
        "if __name__ == \"__main__\":\n",
        "    positions, statuses = simulate_neutron(NUM_NEUTRONS, MAX_STEPS, LAMBDA, BOUNDARY)\n",
        "\n",
        "    # Analyze results (example: count escaped neutrons)\n",
        "    num_escaped = np.sum(statuses == 0)\n",
        "    print(f\"Number of neutrons that escaped: {num_escaped}\")\n",
        "\n",
        "    # Additional analysis can be performed here\n"
      ],
      "metadata": {
        "colab": {
          "base_uri": "https://localhost:8080/"
        },
        "id": "O1dRYJR8rCmM",
        "outputId": "d0b2b306-aadc-406a-dfe5-6a197be2ceb4"
      },
      "execution_count": 7,
      "outputs": [
        {
          "output_type": "stream",
          "name": "stdout",
          "text": [
            "Number of neutrons that escaped: 0\n"
          ]
        }
      ]
    },
    {
      "cell_type": "code",
      "source": [
        "import numpy as np\n",
        "import random\n",
        "import math\n",
        "\n",
        "# Constants\n",
        "NUM_NEUTRONS = 100000  # Number of neutrons to simulate\n",
        "MAX_STEPS = 5000       # Maximum number of steps for each neutron\n",
        "LAMBDA = 5.0           # Mean free path\n",
        "BOUNDARY = 50.0        # Boundary limit for the medium\n",
        "\n",
        "def simulate_neutron(num_neutrons, max_steps, lambda_val, boundary):\n",
        "    neutron_positions = np.zeros((num_neutrons, 3))\n",
        "    neutron_statuses = np.ones(num_neutrons, dtype=np.int32)\n",
        "\n",
        "    for i in range(num_neutrons):\n",
        "        x, y, z = 0.0, 0.0, 0.0\n",
        "        for step in range(max_steps):\n",
        "            theta = 2.0 * math.pi * random.random()\n",
        "            phi = math.acos(2.0 * random.random() - 1.0)\n",
        "            dx = lambda_val * math.sin(phi) * math.cos(theta)\n",
        "            dy = lambda_val * math.sin(phi) * math.sin(theta)\n",
        "            dz = lambda_val * math.cos(phi)\n",
        "\n",
        "            x += dx\n",
        "            y += dy\n",
        "            z += dz\n",
        "\n",
        "            # Check for boundary conditions (example: if neutron escapes the medium)\n",
        "            if abs(x) > boundary or abs(y) > boundary or abs(z) > boundary:\n",
        "                neutron_statuses[i] = 0  # Mark neutron as escaped\n",
        "                break\n",
        "\n",
        "        neutron_positions[i, 0] = x\n",
        "        neutron_positions[i, 1] = y\n",
        "        neutron_positions[i, 2] = z\n",
        "\n",
        "    return neutron_positions, neutron_statuses\n",
        "\n",
        "if __name__ == \"__main__\":\n",
        "    positions, statuses = simulate_neutron(NUM_NEUTRONS, MAX_STEPS, LAMBDA, BOUNDARY)\n",
        "\n",
        "    # Analyze results (example: count escaped neutrons)\n",
        "    num_escaped = np.sum(statuses == 0)\n",
        "    print(f\"Number of neutrons that escaped: {num_escaped}\")\n",
        "\n",
        "    # Additional analysis can be performed here\n"
      ],
      "metadata": {
        "colab": {
          "base_uri": "https://localhost:8080/"
        },
        "id": "DDizPNwVrrQX",
        "outputId": "bea851df-9b75-4993-ab7a-7b23fb017f74"
      },
      "execution_count": 8,
      "outputs": [
        {
          "output_type": "stream",
          "name": "stdout",
          "text": [
            "Number of neutrons that escaped: 100000\n"
          ]
        }
      ]
    },
    {
      "cell_type": "code",
      "source": [
        "!pip install pyculib"
      ],
      "metadata": {
        "colab": {
          "base_uri": "https://localhost:8080/"
        },
        "id": "6M7qdpZ5qiAe",
        "outputId": "ac042401-a1c2-4ed7-8e3b-aff4f520c5ea"
      },
      "execution_count": 4,
      "outputs": [
        {
          "output_type": "stream",
          "name": "stdout",
          "text": [
            "Collecting pyculib\n",
            "  Downloading pyculib-1.0.1.tar.gz (88 kB)\n",
            "\u001b[?25l     \u001b[90m━━━━━━━━━━━━━━━━━━━━━━━━━━━━━━━━━━━━━━━━\u001b[0m \u001b[32m0.0/88.2 kB\u001b[0m \u001b[31m?\u001b[0m eta \u001b[36m-:--:--\u001b[0m\r\u001b[2K     \u001b[90m━━━━━━━━━━━━━━━━━━━━━━━━━━━━━━━━━━━━━━━━\u001b[0m \u001b[32m88.2/88.2 kB\u001b[0m \u001b[31m8.6 MB/s\u001b[0m eta \u001b[36m0:00:00\u001b[0m\n",
            "\u001b[?25h  Preparing metadata (setup.py) ... \u001b[?25l\u001b[?25hdone\n",
            "Building wheels for collected packages: pyculib\n",
            "  Building wheel for pyculib (setup.py) ... \u001b[?25l\u001b[?25hdone\n",
            "  Created wheel for pyculib: filename=pyculib-1.0.1-py3-none-any.whl size=65689 sha256=af6fe38f7d2ecfdd40f8ea503cf14506a4c5f983775db9b4a489832126bb2d51\n",
            "  Stored in directory: /root/.cache/pip/wheels/9b/5d/f3/93abe5510169235fe6a6e509a1a56209cb4844b5339c2b17ab\n",
            "Successfully built pyculib\n",
            "Installing collected packages: pyculib\n",
            "Successfully installed pyculib-1.0.1\n"
          ]
        }
      ]
    }
  ]
}