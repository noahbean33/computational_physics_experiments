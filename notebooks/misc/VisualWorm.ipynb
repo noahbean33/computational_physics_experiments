""" From "COMPUTATIONAL PHYSICS: PROBLEM SOLVING with PYTHON"
    4th Ed. by RH Landau, MJ Paez, and CC Bordeianu (D)
    Copyright R Landau, Oregon State Unv, MJ Paez, Univ Antioquia, 
    C Bordeianu, Univ Bucharest, 2024. 
    Please respect copyright & acknowledge our work."""
   
# VisualWorm.ipynb

from vpython import *
escene = canvas(width=400,height=400, range= 15)
import numpy as np
import math

a = 1                           # 2a = height inner cylinder
ring(pos=vector(0,0,0),radius=1,axis=vector(0,1,0),color=color.yellow)
def f(x):                       # function to be integrated
    M = 0.5                     # black hole mass
    a = 1                       # 2a: cylinders height
    y = np.sqrt(1- (2*np.arctan(2*(x - a)/(np.pi*M))/np.pi)**2)
    return y

def trapezoid(Func,A,B,N):
    h = (B - A)/(N )           # step, A:initial, B:end
    sum = (Func(A)+Func(B))/2  # initialize, (first + last)/2
    for i in range(1, N):      # inside
         sum += Func(A+i*h)    #
    return h*sum               # sum times h
def radiuss(L):                # radius as function of L
    ro = 1                     # radius of cylinder (a/ro=1)
    a = 1                      # 2a: height of inner cylinder
    M = 0.5                    # black hole (mass M/ro)=1
    xx = (2*(L-a))/(np.pi*M)
    p = M*(xx*np.arctan(xx))
    q = -0.5*M*math.log(1+xx**2)
    r = ro+ p+q
    return r
for i in range(1,12):        # Plot rings at z, -z
    A = 0                    # limits of integration
    B = i
    N = 300                  # trapezoid rule points
    if i>6: N=600            # more points
    z = trapezoid(f,A,B,N)   # returns z
    L = i+1
    rr = radiuss(L)         # radius
    ring(pos=vector(0,z,0),radius=rr,axis=vector(0,1,0),color=color.yellow)
    ring(pos=vector(0,-z,0),radius=rr,axis=vector(0,1,0),color=color.yellow)